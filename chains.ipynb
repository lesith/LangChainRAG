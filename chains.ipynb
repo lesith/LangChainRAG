{
 "cells": [
  {
   "cell_type": "code",
   "id": "initial_id",
   "metadata": {
    "collapsed": true,
    "ExecuteTime": {
     "end_time": "2025-02-18T07:15:57.464468Z",
     "start_time": "2025-02-18T07:15:52.443171Z"
    }
   },
   "source": [
    "!pip install --upgrade pip\n",
    "!pip install --upgrade pypdf langchain-text-splitters langchain-community langgraph faiss-cpu langchain-openai python-dotenv rapidocr-onnxruntime langsmith\n",
    "!pip install -qU \"langchain[openai]\""
   ],
   "outputs": [
    {
     "name": "stdout",
     "output_type": "stream",
     "text": [
      "Requirement already satisfied: pip in ./.venv/lib/python3.13/site-packages (25.0.1)\r\n",
      "Requirement already satisfied: pypdf in ./.venv/lib/python3.13/site-packages (5.3.0)\r\n",
      "Requirement already satisfied: langchain-text-splitters in ./.venv/lib/python3.13/site-packages (0.3.6)\r\n",
      "Requirement already satisfied: langchain-community in ./.venv/lib/python3.13/site-packages (0.3.17)\r\n",
      "Requirement already satisfied: langgraph in ./.venv/lib/python3.13/site-packages (0.2.73)\r\n",
      "Requirement already satisfied: faiss-cpu in ./.venv/lib/python3.13/site-packages (1.10.0)\r\n",
      "Requirement already satisfied: langchain-openai in ./.venv/lib/python3.13/site-packages (0.3.6)\r\n",
      "Requirement already satisfied: python-dotenv in ./.venv/lib/python3.13/site-packages (1.0.1)\r\n",
      "Requirement already satisfied: rapidocr-onnxruntime in ./.venv/lib/python3.13/site-packages (1.2.3)\r\n",
      "Requirement already satisfied: langsmith in ./.venv/lib/python3.13/site-packages (0.3.8)\r\n",
      "Requirement already satisfied: langchain-core<1.0.0,>=0.3.34 in ./.venv/lib/python3.13/site-packages (from langchain-text-splitters) (0.3.35)\r\n",
      "Requirement already satisfied: langchain<1.0.0,>=0.3.18 in ./.venv/lib/python3.13/site-packages (from langchain-community) (0.3.19)\r\n",
      "Requirement already satisfied: SQLAlchemy<3,>=1.4 in ./.venv/lib/python3.13/site-packages (from langchain-community) (2.0.38)\r\n",
      "Requirement already satisfied: requests<3,>=2 in ./.venv/lib/python3.13/site-packages (from langchain-community) (2.32.3)\r\n",
      "Requirement already satisfied: PyYAML>=5.3 in ./.venv/lib/python3.13/site-packages (from langchain-community) (6.0.2)\r\n",
      "Requirement already satisfied: aiohttp<4.0.0,>=3.8.3 in ./.venv/lib/python3.13/site-packages (from langchain-community) (3.11.12)\r\n",
      "Requirement already satisfied: tenacity!=8.4.0,<10,>=8.1.0 in ./.venv/lib/python3.13/site-packages (from langchain-community) (9.0.0)\r\n",
      "Requirement already satisfied: dataclasses-json<0.7,>=0.5.7 in ./.venv/lib/python3.13/site-packages (from langchain-community) (0.6.7)\r\n",
      "Requirement already satisfied: pydantic-settings<3.0.0,>=2.4.0 in ./.venv/lib/python3.13/site-packages (from langchain-community) (2.7.1)\r\n",
      "Requirement already satisfied: httpx-sse<1.0.0,>=0.4.0 in ./.venv/lib/python3.13/site-packages (from langchain-community) (0.4.0)\r\n",
      "Requirement already satisfied: numpy<3,>=1.26.2 in ./.venv/lib/python3.13/site-packages (from langchain-community) (2.2.3)\r\n",
      "Requirement already satisfied: langgraph-checkpoint<3.0.0,>=2.0.10 in ./.venv/lib/python3.13/site-packages (from langgraph) (2.0.15)\r\n",
      "Requirement already satisfied: langgraph-sdk<0.2.0,>=0.1.42 in ./.venv/lib/python3.13/site-packages (from langgraph) (0.1.51)\r\n",
      "Requirement already satisfied: packaging in ./.venv/lib/python3.13/site-packages (from faiss-cpu) (24.2)\r\n",
      "Requirement already satisfied: openai<2.0.0,>=1.58.1 in ./.venv/lib/python3.13/site-packages (from langchain-openai) (1.63.2)\r\n",
      "Requirement already satisfied: tiktoken<1,>=0.7 in ./.venv/lib/python3.13/site-packages (from langchain-openai) (0.9.0)\r\n",
      "Requirement already satisfied: pyclipper>=1.2.1 in ./.venv/lib/python3.13/site-packages (from rapidocr-onnxruntime) (1.3.0.post6)\r\n",
      "Requirement already satisfied: onnxruntime>=1.7.0 in ./.venv/lib/python3.13/site-packages (from rapidocr-onnxruntime) (1.20.1)\r\n",
      "Requirement already satisfied: opencv-python>=4.5.1.48 in ./.venv/lib/python3.13/site-packages (from rapidocr-onnxruntime) (4.11.0.86)\r\n",
      "Requirement already satisfied: six>=1.15.0 in ./.venv/lib/python3.13/site-packages (from rapidocr-onnxruntime) (1.17.0)\r\n",
      "Requirement already satisfied: Shapely>=1.7.1 in ./.venv/lib/python3.13/site-packages (from rapidocr-onnxruntime) (2.0.7)\r\n",
      "Requirement already satisfied: Pillow in ./.venv/lib/python3.13/site-packages (from rapidocr-onnxruntime) (11.1.0)\r\n",
      "Requirement already satisfied: httpx<1,>=0.23.0 in ./.venv/lib/python3.13/site-packages (from langsmith) (0.28.1)\r\n",
      "Requirement already satisfied: orjson<4.0.0,>=3.9.14 in ./.venv/lib/python3.13/site-packages (from langsmith) (3.10.15)\r\n",
      "Requirement already satisfied: pydantic<3.0.0,>=2.7.4 in ./.venv/lib/python3.13/site-packages (from langsmith) (2.10.6)\r\n",
      "Requirement already satisfied: requests-toolbelt<2.0.0,>=1.0.0 in ./.venv/lib/python3.13/site-packages (from langsmith) (1.0.0)\r\n",
      "Requirement already satisfied: zstandard<0.24.0,>=0.23.0 in ./.venv/lib/python3.13/site-packages (from langsmith) (0.23.0)\r\n",
      "Requirement already satisfied: aiohappyeyeballs>=2.3.0 in ./.venv/lib/python3.13/site-packages (from aiohttp<4.0.0,>=3.8.3->langchain-community) (2.4.6)\r\n",
      "Requirement already satisfied: aiosignal>=1.1.2 in ./.venv/lib/python3.13/site-packages (from aiohttp<4.0.0,>=3.8.3->langchain-community) (1.3.2)\r\n",
      "Requirement already satisfied: attrs>=17.3.0 in ./.venv/lib/python3.13/site-packages (from aiohttp<4.0.0,>=3.8.3->langchain-community) (25.1.0)\r\n",
      "Requirement already satisfied: frozenlist>=1.1.1 in ./.venv/lib/python3.13/site-packages (from aiohttp<4.0.0,>=3.8.3->langchain-community) (1.5.0)\r\n",
      "Requirement already satisfied: multidict<7.0,>=4.5 in ./.venv/lib/python3.13/site-packages (from aiohttp<4.0.0,>=3.8.3->langchain-community) (6.1.0)\r\n",
      "Requirement already satisfied: propcache>=0.2.0 in ./.venv/lib/python3.13/site-packages (from aiohttp<4.0.0,>=3.8.3->langchain-community) (0.2.1)\r\n",
      "Requirement already satisfied: yarl<2.0,>=1.17.0 in ./.venv/lib/python3.13/site-packages (from aiohttp<4.0.0,>=3.8.3->langchain-community) (1.18.3)\r\n",
      "Requirement already satisfied: marshmallow<4.0.0,>=3.18.0 in ./.venv/lib/python3.13/site-packages (from dataclasses-json<0.7,>=0.5.7->langchain-community) (3.26.1)\r\n",
      "Requirement already satisfied: typing-inspect<1,>=0.4.0 in ./.venv/lib/python3.13/site-packages (from dataclasses-json<0.7,>=0.5.7->langchain-community) (0.9.0)\r\n",
      "Requirement already satisfied: anyio in ./.venv/lib/python3.13/site-packages (from httpx<1,>=0.23.0->langsmith) (4.8.0)\r\n",
      "Requirement already satisfied: certifi in ./.venv/lib/python3.13/site-packages (from httpx<1,>=0.23.0->langsmith) (2025.1.31)\r\n",
      "Requirement already satisfied: httpcore==1.* in ./.venv/lib/python3.13/site-packages (from httpx<1,>=0.23.0->langsmith) (1.0.7)\r\n",
      "Requirement already satisfied: idna in ./.venv/lib/python3.13/site-packages (from httpx<1,>=0.23.0->langsmith) (3.10)\r\n",
      "Requirement already satisfied: h11<0.15,>=0.13 in ./.venv/lib/python3.13/site-packages (from httpcore==1.*->httpx<1,>=0.23.0->langsmith) (0.14.0)\r\n",
      "Requirement already satisfied: jsonpatch<2.0,>=1.33 in ./.venv/lib/python3.13/site-packages (from langchain-core<1.0.0,>=0.3.34->langchain-text-splitters) (1.33)\r\n",
      "Requirement already satisfied: typing-extensions>=4.7 in ./.venv/lib/python3.13/site-packages (from langchain-core<1.0.0,>=0.3.34->langchain-text-splitters) (4.12.2)\r\n",
      "Requirement already satisfied: msgpack<2.0.0,>=1.1.0 in ./.venv/lib/python3.13/site-packages (from langgraph-checkpoint<3.0.0,>=2.0.10->langgraph) (1.1.0)\r\n",
      "Requirement already satisfied: coloredlogs in ./.venv/lib/python3.13/site-packages (from onnxruntime>=1.7.0->rapidocr-onnxruntime) (15.0.1)\r\n",
      "Requirement already satisfied: flatbuffers in ./.venv/lib/python3.13/site-packages (from onnxruntime>=1.7.0->rapidocr-onnxruntime) (25.2.10)\r\n",
      "Requirement already satisfied: protobuf in ./.venv/lib/python3.13/site-packages (from onnxruntime>=1.7.0->rapidocr-onnxruntime) (5.29.3)\r\n",
      "Requirement already satisfied: sympy in ./.venv/lib/python3.13/site-packages (from onnxruntime>=1.7.0->rapidocr-onnxruntime) (1.13.3)\r\n",
      "Requirement already satisfied: distro<2,>=1.7.0 in ./.venv/lib/python3.13/site-packages (from openai<2.0.0,>=1.58.1->langchain-openai) (1.9.0)\r\n",
      "Requirement already satisfied: jiter<1,>=0.4.0 in ./.venv/lib/python3.13/site-packages (from openai<2.0.0,>=1.58.1->langchain-openai) (0.8.2)\r\n",
      "Requirement already satisfied: sniffio in ./.venv/lib/python3.13/site-packages (from openai<2.0.0,>=1.58.1->langchain-openai) (1.3.1)\r\n",
      "Requirement already satisfied: tqdm>4 in ./.venv/lib/python3.13/site-packages (from openai<2.0.0,>=1.58.1->langchain-openai) (4.67.1)\r\n",
      "Requirement already satisfied: annotated-types>=0.6.0 in ./.venv/lib/python3.13/site-packages (from pydantic<3.0.0,>=2.7.4->langsmith) (0.7.0)\r\n",
      "Requirement already satisfied: pydantic-core==2.27.2 in ./.venv/lib/python3.13/site-packages (from pydantic<3.0.0,>=2.7.4->langsmith) (2.27.2)\r\n",
      "Requirement already satisfied: charset-normalizer<4,>=2 in ./.venv/lib/python3.13/site-packages (from requests<3,>=2->langchain-community) (3.4.1)\r\n",
      "Requirement already satisfied: urllib3<3,>=1.21.1 in ./.venv/lib/python3.13/site-packages (from requests<3,>=2->langchain-community) (2.3.0)\r\n",
      "Requirement already satisfied: greenlet!=0.4.17 in ./.venv/lib/python3.13/site-packages (from SQLAlchemy<3,>=1.4->langchain-community) (3.1.1)\r\n",
      "Requirement already satisfied: regex>=2022.1.18 in ./.venv/lib/python3.13/site-packages (from tiktoken<1,>=0.7->langchain-openai) (2024.11.6)\r\n",
      "Requirement already satisfied: jsonpointer>=1.9 in ./.venv/lib/python3.13/site-packages (from jsonpatch<2.0,>=1.33->langchain-core<1.0.0,>=0.3.34->langchain-text-splitters) (3.0.0)\r\n",
      "Requirement already satisfied: mypy-extensions>=0.3.0 in ./.venv/lib/python3.13/site-packages (from typing-inspect<1,>=0.4.0->dataclasses-json<0.7,>=0.5.7->langchain-community) (1.0.0)\r\n",
      "Requirement already satisfied: humanfriendly>=9.1 in ./.venv/lib/python3.13/site-packages (from coloredlogs->onnxruntime>=1.7.0->rapidocr-onnxruntime) (10.0)\r\n",
      "Requirement already satisfied: mpmath<1.4,>=1.1.0 in ./.venv/lib/python3.13/site-packages (from sympy->onnxruntime>=1.7.0->rapidocr-onnxruntime) (1.3.0)\r\n"
     ]
    }
   ],
   "execution_count": 13
  },
  {
   "metadata": {
    "ExecuteTime": {
     "end_time": "2025-02-18T07:15:57.941813Z",
     "start_time": "2025-02-18T07:15:57.908894Z"
    }
   },
   "cell_type": "code",
   "source": [
    "import os\n",
    "from dotenv import load_dotenv\n",
    "from pypdf import PdfReader\n",
    "from langgraph.graph import StateGraph, MessagesState\n",
    "from langchain_core.messages import SystemMessage\n",
    "from langchain_core.tools import tool\n",
    "from langgraph.graph import END\n",
    "from langgraph.prebuilt import ToolNode, tools_condition\n",
    "from langgraph.checkpoint.memory import MemorySaver\n",
    "from langchain.chat_models import init_chat_model\n",
    "from langchain_community.document_loaders import PyPDFLoader\n",
    "from langchain_community.vectorstores import FAISS\n",
    "from langchain_openai import OpenAIEmbeddings\n",
    "from langchain_text_splitters import RecursiveCharacterTextSplitter\n",
    "from IPython.display import Image, display"
   ],
   "id": "1e8854eed03e6d85",
   "outputs": [],
   "execution_count": 14
  },
  {
   "metadata": {
    "ExecuteTime": {
     "end_time": "2025-02-18T07:16:00.194769Z",
     "start_time": "2025-02-18T07:16:00.179966Z"
    }
   },
   "cell_type": "code",
   "source": [
    "load_dotenv()\n",
    "\n",
    "OPENAI_API_KEY = os.getenv(\"OPENAI_API_KEY\")\n",
    "LANGSMITH_TRACING = os.getenv(\"LANGSMITH_TRACING\", \"false\")\n",
    "LANGSMITH_API_KEY = os.getenv(\"LANGSMITH_API_KEY\", \"not provided\")"
   ],
   "id": "e662f3ca9b8de897",
   "outputs": [],
   "execution_count": 15
  },
  {
   "metadata": {
    "ExecuteTime": {
     "end_time": "2025-02-18T07:00:14.897264Z",
     "start_time": "2025-02-18T07:00:12.859140Z"
    }
   },
   "cell_type": "code",
   "source": [
    "def load_pdfs_recursively(directory):\n",
    "    all_pages = []\n",
    "    for root, _, files in os.walk(directory):\n",
    "        for file in files:\n",
    "            if file.lower().endswith(\".pdf\"):\n",
    "                pdf_path = os.path.join(root, file)\n",
    "                try:\n",
    "                    with open(pdf_path, 'rb') as f:\n",
    "                        PdfReader(f)  # will raise an exception if the PDF is invalid\n",
    "\n",
    "                    loader = PyPDFLoader(pdf_path, extract_images=False)  # set to False unless you NEED images\n",
    "                    pages = loader.load()\n",
    "                    all_pages.extend(pages)\n",
    "                except Exception as e:\n",
    "                    print(f\"Error processing {pdf_path}: {e}\")\n",
    "    return all_pages\n",
    "\n",
    "pdf_directory = \"pdfs\"  # path to dir with PDFs\n",
    "docs = load_pdfs_recursively(pdf_directory)\n",
    "\n",
    "text_splitter = RecursiveCharacterTextSplitter(chunk_size=1000, chunk_overlap=200)\n",
    "all_splits = text_splitter.split_documents(docs)\n",
    "\n",
    "embeddings = OpenAIEmbeddings(model=\"text-embedding-3-large\")\n",
    "\n",
    "vector_store = FAISS.from_documents(all_splits, embeddings)\n",
    "\n",
    "print(\"Index created!\")"
   ],
   "id": "cec32adbc9797ef1",
   "outputs": [
    {
     "name": "stdout",
     "output_type": "stream",
     "text": [
      "Index created!\n"
     ]
    }
   ],
   "execution_count": 4
  },
  {
   "metadata": {
    "ExecuteTime": {
     "end_time": "2025-02-18T07:16:05.427474Z",
     "start_time": "2025-02-18T07:16:05.407810Z"
    }
   },
   "cell_type": "code",
   "source": "graph_builder = StateGraph(MessagesState)",
   "id": "2fa440a94fbf60aa",
   "outputs": [],
   "execution_count": 16
  },
  {
   "metadata": {
    "ExecuteTime": {
     "end_time": "2025-02-18T07:16:17.319550Z",
     "start_time": "2025-02-18T07:16:17.216601Z"
    }
   },
   "cell_type": "code",
   "source": [
    "@tool(response_format=\"content_and_artifact\")\n",
    "def retrieve(query: str):\n",
    "    \"\"\"Retrieve information related to a query.\"\"\"\n",
    "    retrieved_docs = vector_store.similarity_search(query, k=2)\n",
    "    serialized = \"\\n\\n\".join(\n",
    "        (f\"Source: {doc.metadata}\\n\" f\"Content: {doc.page_content}\")\n",
    "        for doc in retrieved_docs\n",
    "    )\n",
    "    return serialized, retrieved_docs"
   ],
   "id": "a9de700afc47fc67",
   "outputs": [],
   "execution_count": 17
  },
  {
   "metadata": {
    "ExecuteTime": {
     "end_time": "2025-02-18T07:00:53.282170Z",
     "start_time": "2025-02-18T07:00:53.152744Z"
    }
   },
   "cell_type": "code",
   "source": [
    "# Invoke LLM\n",
    "llm = init_chat_model(\"gpt-4o-mini\", model_provider=\"openai\")\n",
    "\n",
    "# Step 1: Generate an AIMessage that may include a tool-call to be sent.\n",
    "def query_or_respond(state: MessagesState):\n",
    "    \"\"\"Generate tool call for retrieval or respond.\"\"\"\n",
    "    llm_with_tools = llm.bind_tools([retrieve])\n",
    "    response = llm_with_tools.invoke(state[\"messages\"])\n",
    "    # MessagesState appends messages to state instead of overwriting\n",
    "    return {\"messages\": [response]}\n",
    "\n",
    "\n",
    "# Step 2: Execute the retrieval.\n",
    "tools = ToolNode([retrieve])\n",
    "\n",
    "\n",
    "# Step 3: Generate a response using the retrieved content.\n",
    "def generate(state: MessagesState):\n",
    "    \"\"\"Generate answer.\"\"\"\n",
    "    # Get generated ToolMessages\n",
    "    recent_tool_messages = []\n",
    "    for message in reversed(state[\"messages\"]):\n",
    "        if message.type == \"tool\":\n",
    "            recent_tool_messages.append(message)\n",
    "        else:\n",
    "            break\n",
    "    tool_messages = recent_tool_messages[::-1]\n",
    "\n",
    "    # Format into prompt\n",
    "    docs_content = \"\\n\\n\".join(doc.content for doc in tool_messages)\n",
    "    system_message_content = (\n",
    "        \"You are an assistant for question-answering tasks. \"\n",
    "        \"Use the following pieces of retrieved context to answer \"\n",
    "        \"the question. If you don't know the answer, say that you \"\n",
    "        \"don't know. Use three sentences maximum and keep the \"\n",
    "        \"answer concise.\"\n",
    "        \"\\n\\n\"\n",
    "        f\"{docs_content}\"\n",
    "    )\n",
    "    conversation_messages = [\n",
    "        message\n",
    "        for message in state[\"messages\"]\n",
    "        if message.type in (\"human\", \"system\")\n",
    "        or (message.type == \"ai\" and not message.tool_calls)\n",
    "    ]\n",
    "    prompt = [SystemMessage(system_message_content)] + conversation_messages\n",
    "\n",
    "    # Run\n",
    "    response = llm.invoke(prompt)\n",
    "    return {\"messages\": [response]}"
   ],
   "id": "d80c3f28dab2184a",
   "outputs": [],
   "execution_count": 7
  },
  {
   "metadata": {
    "ExecuteTime": {
     "end_time": "2025-02-18T07:01:03.476572Z",
     "start_time": "2025-02-18T07:01:03.458025Z"
    }
   },
   "cell_type": "code",
   "source": [
    "graph_builder.add_node(query_or_respond)\n",
    "graph_builder.add_node(tools)\n",
    "graph_builder.add_node(generate)\n",
    "\n",
    "graph_builder.set_entry_point(\"query_or_respond\")\n",
    "graph_builder.add_conditional_edges(\n",
    "    \"query_or_respond\",\n",
    "    tools_condition,\n",
    "    {END: END, \"tools\": \"tools\"},\n",
    ")\n",
    "graph_builder.add_edge(\"tools\", \"generate\")\n",
    "graph_builder.add_edge(\"generate\", END)\n",
    "\n",
    "graph = graph_builder.compile()"
   ],
   "id": "dc1f6f932adf7030",
   "outputs": [],
   "execution_count": 8
  },
  {
   "metadata": {
    "ExecuteTime": {
     "end_time": "2025-02-18T07:01:07.798931Z",
     "start_time": "2025-02-18T07:01:07.009913Z"
    }
   },
   "cell_type": "code",
   "source": "display(Image(graph.get_graph().draw_mermaid_png()))",
   "id": "7b579573a1278980",
   "outputs": [
    {
     "data": {
      "image/png": "[encoded data removed]",
      "text/plain": [
       "<IPython.core.display.Image object>"
      ]
     },
     "metadata": {},
     "output_type": "display_data"
    }
   ],
   "execution_count": 9
  },
  {
   "metadata": {
    "ExecuteTime": {
     "end_time": "2025-02-18T07:02:12.034638Z",
     "start_time": "2025-02-18T07:02:12.027624Z"
    }
   },
   "cell_type": "code",
   "source": [
    "memory = MemorySaver()\n",
    "graph = graph_builder.compile(checkpointer=memory)\n",
    "\n",
    "# Specify an ID for the thread\n",
    "config = {\"configurable\": {\"thread_id\": \"abc123\"}}"
   ],
   "id": "5ac23f8838ebca12",
   "outputs": [],
   "execution_count": 10
  },
  {
   "metadata": {
    "ExecuteTime": {
     "end_time": "2025-02-18T07:02:20.237343Z",
     "start_time": "2025-02-18T07:02:19.176191Z"
    }
   },
   "cell_type": "code",
   "source": [
    "input_message = \"Hello\"\n",
    "\n",
    "for step in graph.stream(\n",
    "    {\"messages\": [{\"role\": \"user\", \"content\": input_message}]},\n",
    "    stream_mode=\"values\",\n",
    "    config=config,\n",
    "):\n",
    "    step[\"messages\"][-1].pretty_print()"
   ],
   "id": "19fbc26a4b2fd418",
   "outputs": [
    {
     "name": "stdout",
     "output_type": "stream",
     "text": [
      "================================\u001B[1m Human Message \u001B[0m=================================\n",
      "\n",
      "Hello\n",
      "==================================\u001B[1m Ai Message \u001B[0m==================================\n",
      "\n",
      "Hello! How can I assist you today?\n"
     ]
    }
   ],
   "execution_count": 11
  },
  {
   "metadata": {
    "ExecuteTime": {
     "end_time": "2025-02-18T07:02:58.722056Z",
     "start_time": "2025-02-18T07:02:53.081577Z"
    }
   },
   "cell_type": "code",
   "source": [
    "input_message = \"What should I highlight on an Academic Resume?\"\n",
    "\n",
    "for step in graph.stream(\n",
    "    {\"messages\": [{\"role\": \"user\", \"content\": input_message}]},\n",
    "    stream_mode=\"values\",\n",
    "    config=config,\n",
    "):\n",
    "    step[\"messages\"][-1].pretty_print()"
   ],
   "id": "e5a3941ce7c396de",
   "outputs": [
    {
     "name": "stdout",
     "output_type": "stream",
     "text": [
      "================================\u001B[1m Human Message \u001B[0m=================================\n",
      "\n",
      "What should I highlight on an Academic Resume?\n",
      "==================================\u001B[1m Ai Message \u001B[0m==================================\n",
      "\n",
      "When creating an academic resume, it's important to highlight specific elements that reflect your scholarly accomplishments and qualifications. Here are some key sections to include:\n",
      "\n",
      "1. **Contact Information**: Include your name, address, phone number, and professional email.\n",
      "\n",
      "2. **Objective or Summary**: A brief statement outlining your academic and professional goals.\n",
      "\n",
      "3. **Education**: List your degrees (with majors/minors), institutions, and graduation dates. Consider including relevant coursework if applicable.\n",
      "\n",
      "4. **Research Experience**: Highlight any research projects, your role, methodologies used, and key findings or contributions.\n",
      "\n",
      "5. **Publications and Presentations**: Include articles, papers, or posters you've authored or co-authored, along with conferences where you've presented.\n",
      "\n",
      "6. **Teaching Experience**: Describe any teaching assistant roles or teaching positions, including the subjects taught and responsibility levels.\n",
      "\n",
      "7. **Awards and Honors**: List academic awards, scholarships, fellowships, and other recognitions relevant to your field.\n",
      "\n",
      "8. **Professional Affiliations**: Mention memberships in academic or professional organizations.\n",
      "\n",
      "9. **Skills**: Include both hard skills (lab techniques, statistical software, languages) and soft skills (communication, leadership) relevant to your academic work.\n",
      "\n",
      "10. **Service Activities**: Describe any community service, volunteer work, or roles in academic committees.\n",
      "\n",
      "11. **References**: You may note that references are available upon request or list contact information for academic referees, if appropriate.\n",
      "\n",
      "Remember to tailor your resume to the position or opportunity you are applying for, emphasizing the most relevant experiences and accomplishments.\n"
     ]
    }
   ],
   "execution_count": 12
  },
  {
   "metadata": {
    "ExecuteTime": {
     "end_time": "2025-02-18T07:23:41.220695Z",
     "start_time": "2025-02-18T07:23:37.853867Z"
    }
   },
   "cell_type": "code",
   "source": [
    "input_message = \"What was Sanjana Singh's last occupation?\"\n",
    "\n",
    "for step in graph.stream(\n",
    "    {\"messages\": [{\"role\": \"user\", \"content\": input_message}]},\n",
    "    stream_mode=\"values\",\n",
    "    config=config,\n",
    "):\n",
    "    step[\"messages\"][-1].pretty_print()"
   ],
   "id": "8c433765377726b4",
   "outputs": [
    {
     "name": "stdout",
     "output_type": "stream",
     "text": [
      "================================\u001B[1m Human Message \u001B[0m=================================\n",
      "\n",
      "What was Sanjana Singh's last occupation?\n",
      "==================================\u001B[1m Ai Message \u001B[0m==================================\n",
      "Tool Calls:\n",
      "  retrieve (call_Oc3NvUYdDgvv4YRyUHegFbxM)\n",
      " Call ID: call_Oc3NvUYdDgvv4YRyUHegFbxM\n",
      "  Args:\n",
      "    query: Sanjana Singh last occupation\n",
      "=================================\u001B[1m Tool Message \u001B[0m=================================\n",
      "Name: retrieve\n",
      "\n",
      "Source: {'producer': 'Adobe PDF Library 15.0', 'creator': 'Adobe InDesign 15.0 (Macintosh)', 'creationdate': '2021-03-15T11:19:21-04:00', 'moddate': '2021-03-15T11:23:17-04:00', 'title': 'Creating Your Academic CV For Masters and PhDs', 'trapped': '/False', 'source': 'pdfs/Creating-Your-Academic-CV.pdf', 'total_pages': 20, 'page': 6, 'page_label': '7'}\n",
      "Content: 7\n",
      "CV sample 1\n",
      "Sanjana Singh \n",
      "567 Toronto Street ·Toronto, ON M4Y 2T9 Canada · Tel: (416) 123-4567 · email: s.singh@utoronto.ca \n",
      "EDUCATION\n",
      "Doctor of Pharmacy, University of Toronto 2020\n",
      "Hospital Pharmacy Residency, The Toronto Hospital 2018\n",
      "Bachelor of Science in Pharmacy, University of Toronto 2016 \n",
      "PROFESSIONAL EXPERIENCE\n",
      "Staff Pharmacist Sept. 2019 — Present\n",
      "Mount Sinai Hospital, Toronto, ON\n",
      "• Dispense drugs to healthcare professionals, according to written prescriptions using medication input \n",
      "software which resulted in accurate patient medication administered \n",
      "• Counsel patients and explain drug interaction and side effects to patients which ensure continued patient \n",
      "safety \n",
      "• Maintain safe storage of all pharmacy inventory by performing daily label checks to prevent inventory loss \n",
      "• Order supplies based on daily demand which contributed to a waste reduction of 50% \n",
      "Staff Pharmacist Oct. 2018 — Aug. 2019\n",
      "The Toronto Hospital Pharmacy, Toronto, ON\n",
      "\n",
      "Source: {'producer': 'Adobe PDF Library 15.0', 'creator': 'Adobe InDesign 15.0 (Macintosh)', 'creationdate': '2021-03-15T11:19:21-04:00', 'moddate': '2021-03-15T11:23:17-04:00', 'title': 'Creating Your Academic CV For Masters and PhDs', 'trapped': '/False', 'source': 'pdfs/Creating-Your-Academic-CV.pdf', 'total_pages': 20, 'page': 9, 'page_label': '10'}\n",
      "Content: (October 2016)\n",
      "MEMBERSHIPS\n",
      "Canadian Pharmaceutical Association 2018 — present \n",
      "Canadian Society of Hospital Pharmacists 2018 — present \n",
      "Quality of Care Committee, Mount Sinai Hospital, Ontario 2018 — present\n",
      "Singh 4 of 4\n",
      "==================================\u001B[1m Ai Message \u001B[0m==================================\n",
      "\n",
      "Sanjana Singh's last occupation was a Staff Pharmacist at Mount Sinai Hospital, where she worked from September 2019 to the present.\n"
     ]
    }
   ],
   "execution_count": 19
  }
 ],
 "metadata": {
  "kernelspec": {
   "display_name": "Python 3",
   "language": "python",
   "name": "python3"
  },
  "language_info": {
   "codemirror_mode": {
    "name": "ipython",
    "version": 2
   },
   "file_extension": ".py",
   "mimetype": "text/x-python",
   "name": "python",
   "nbconvert_exporter": "python",
   "pygments_lexer": "ipython2",
   "version": "2.7.6"
  }
 },
 "nbformat": 4,
 "nbformat_minor": 5
}
